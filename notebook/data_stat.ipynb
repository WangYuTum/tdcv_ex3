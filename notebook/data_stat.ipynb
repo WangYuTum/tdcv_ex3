{
 "cells": [
  {
   "cell_type": "code",
   "execution_count": 2,
   "metadata": {},
   "outputs": [],
   "source": [
    "import numpy as np\n",
    "from PIL import Image\n",
    "import sys\n",
    "import os\n",
    "import glob\n",
    "\n",
    "data_root = \"../../dataset\"\n",
    "subdirs = ['coarse', 'fine', 'real']\n",
    "categories = ['ape', 'benchvise', 'cam', 'cat', 'duck']\n",
    "\n",
    "def compute(images):\n",
    "    \n",
    "    mean_r = 0.0\n",
    "    mean_g = 0.0\n",
    "    mean_b = 0.0\n",
    "    std_r = 1.0\n",
    "    std_g = 1.0\n",
    "    std_b = 1.0\n",
    "    \n",
    "    sum_r_all = []\n",
    "    sum_g_all = []\n",
    "    sum_b_all = []\n",
    "    std_r_all = []\n",
    "    std_g_all = []\n",
    "    std_b_all = []\n",
    "    \n",
    "    print(\"Computing mean ...\")\n",
    "    num_pixels_per_ch = 0.0\n",
    "    for i in range(len(images)):\n",
    "        image = images[i]\n",
    "        sum_r_all.append( np.sum(image[:,:,0]) )\n",
    "        sum_g_all.append( np.sum(image[:,:,1]) )\n",
    "        sum_b_all.append( np.sum(image[:,:,2]) )\n",
    "        num_pixels_per_ch += image.shape[0] * image.shape[1]\n",
    "    mean_r = np.sum(sum_r_all) / num_pixels_per_ch\n",
    "    mean_g = np.sum(sum_g_all) / num_pixels_per_ch\n",
    "    mean_b = np.sum(sum_b_all) / num_pixels_per_ch\n",
    "    print(\"Numer of pixels per ch: {}\".format(num_pixels_per_ch))\n",
    "    print(\"R mean: {}\".format(mean_r))\n",
    "    print(\"G mean: {}\".format(mean_g))\n",
    "    print(\"B mean: {}\".format(mean_b))\n",
    "    \n",
    "    print(\"Computing std ...\")\n",
    "    for i in range(len(images)):\n",
    "        image = images[i]\n",
    "        std_r_all.append(np.sum(np.square(image[:,:,0] - mean_r)))\n",
    "        std_g_all.append(np.sum(np.square(image[:,:,1] - mean_g)))\n",
    "        std_b_all.append(np.sum(np.square(image[:,:,2] - mean_b)))\n",
    "    std_r = np.sqrt(np.sum(std_r_all) / num_pixels_per_ch)\n",
    "    std_g = np.sqrt(np.sum(std_g_all) / num_pixels_per_ch)\n",
    "    std_b = np.sqrt(np.sum(std_b_all) / num_pixels_per_ch)\n",
    "    print(\"R std: {}\".format(std_r))\n",
    "    print(\"G std: {}\".format(std_g))\n",
    "    print(\"B std: {}\".format(std_b))\n",
    "    \n",
    "    return mean_r, mean_g, mean_b, std_r, std_g, std_b\n",
    "    \n",
    "\n",
    "def get_imgs(data_root, subdirs, categories):\n",
    "    images = []\n",
    "    for sub in subdirs:\n",
    "        for category in categories:\n",
    "            sub_path = os.path.join(data_root, sub, category, '*.png')\n",
    "            files_img = glob.glob(sub_path)\n",
    "            files_img.sort()\n",
    "            for i in range(len(files_img)):\n",
    "                img = read_img(files_img[i])\n",
    "                images.append(img)\n",
    "\n",
    "    return images\n",
    "\n",
    "def read_img(file_path):\n",
    "    \n",
    "    img = Image.open(file_path)\n",
    "    img_arr = np.array(img, dtype=np.float32)\n",
    "    \n",
    "    return img_arr\n",
    "        \n"
   ]
  },
  {
   "cell_type": "code",
   "execution_count": 3,
   "metadata": {},
   "outputs": [
    {
     "name": "stdout",
     "output_type": "stream",
     "text": [
      "Computing mean ...\n",
      "Numer of pixels per ch: 50606080.0\n",
      "R mean: 63.9665267098\n",
      "G mean: 54.8146651153\n",
      "B mean: 48.0492310805\n",
      "Computing std ...\n",
      "R std: 69.0266489691\n",
      "G std: 59.7451054095\n",
      "B std: 55.8269048247\n"
     ]
    }
   ],
   "source": [
    "images = get_imgs(data_root, subdirs, categories)\n",
    "mean_r, mean_g, mean_b, std_r, std_g, std_b = compute(images)"
   ]
  },
  {
   "cell_type": "code",
   "execution_count": null,
   "metadata": {},
   "outputs": [],
   "source": []
  }
 ],
 "metadata": {
  "kernelspec": {
   "display_name": "Python 2",
   "language": "python",
   "name": "python2"
  },
  "language_info": {
   "codemirror_mode": {
    "name": "ipython",
    "version": 2
   },
   "file_extension": ".py",
   "mimetype": "text/x-python",
   "name": "python",
   "nbconvert_exporter": "python",
   "pygments_lexer": "ipython2",
   "version": "2.7.12"
  }
 },
 "nbformat": 4,
 "nbformat_minor": 2
}
